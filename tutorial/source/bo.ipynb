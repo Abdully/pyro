{
 "cells": [
  {
   "cell_type": "markdown",
   "metadata": {},
   "source": [
    "# Bayesian Optimization\n",
    "\n",
    "[Bayesian optimization](https://en.wikipedia.org/wiki/Bayesian_optimization) is a powerful strategy for minimizing (or maximizing) objective functions that are costly to evaluate.  It is an important component of [automated machine learning](https://en.wikipedia.org/wiki/Automated_machine_learning) toolboxes such as [auto-sklearn](https://automl.github.io/auto-sklearn/stable/), [auto-weka](http://www.cs.ubc.ca/labs/beta/Projects/autoweka/), and [scikit-optimize](https://scikit-optimize.github.io/), where Bayesian optimization is used to select model hyperparameters. Bayesian optimization is used for a wide range of other applications as well; as cataloged in the review [2], these include interactive user-interfaces, robotics, environmental monitoring, information extraction, combinatorial optimization, sensor networks, adaptive Monte Carlo, experimental design, and reinforcement learning.\n",
    "\n",
    "## Problem Setup\n",
    "\n",
    "We are given a minimization problem\n",
    "\n",
    "$$ x^* = \\text{arg}\\min \\ f(x), $$\n",
    "\n",
    "where $f$ is a fixed objective function that we can evaluate pointwise. \n",
    "Here we assume that we do _not_  have access to the gradient of $f$. We also\n",
    "allow for the possibility that evaluations of $f$ are noisy.\n",
    "\n",
    "To solve the minimization problem, we will construct a sequence of points $\\{x_n\\}$ that converge to $x^*$. Since we implicitly assume that we have a fixed budget (say 100 evaluations), we do not expect to find the exact minumum $x^*$: the goal is to get the best approximate solution we can given the allocated budget.\n",
    "\n",
    "The Bayesian optimization strategy works as follows:\n",
    "\n",
    "1. Place a prior on the objective function $f$. Each time we evaluate $f$ at a new point $x_n$, we update our model for $f(x)$. This model serves as a surrogate objective function and reflects our beliefs about $f$ (in particular it reflects our beliefs about where we expect $f(x)$ to be close to $f(x^*)$). Since we are being Bayesian, our beliefs are encoded in a posterior that allows us to systematically reason about the uncertainty of our model predictions.\n",
    "\n",
    "2. Use the posterior to derive an \"acquisition\" function $\\alpha(x)$ that is easy to evaluate and differentiate (so that optimizing $\\alpha(x)$ is easy). In contrast to $f(x)$, we will generally evaluate $\\alpha(x)$ at many points $x$, since doing so will be cheap.\n",
    "\n",
    "3. Repeat until convergence:\n",
    "\n",
    "    + Use the acquisition function to derive the next query point according to\n",
    "    $$ x_{n+1} = \\text{arg}\\min \\ \\alpha(x). $$\n",
    "\n",
    "    + Evaluate $f(x_{n+1})$ and update the posterior.\n",
    "\n",
    "A good acquisition function should make use of the uncertainty encoded in the posterior to encourage a balance between exploration&mdash;querying points where we know little about $f$&mdash;and exploitation&mdash;querying points in regions we have good reason to think $x^*$ may lie. As the iterative procedure progresses our model for $f$ evolves and so does the acquisition function. If our model is good and we've chosen a reasonable acquisition function, we expect that the acquisition function will guide the query points $x_n$ towards $x^*$.\n",
    "\n",
    "In this tutorial, our model for $f$ will be a Gaussian process. In particular we will see how to use the [Gaussian Process module](http://docs.pyro.ai/en/0.2.0-release/contrib.gp.html) in Pyro to implement a simple Bayesian optimization procedure."
   ]
  },
  {
   "cell_type": "code",
   "execution_count": 1,
   "metadata": {},
   "outputs": [],
   "source": [
    "import matplotlib.gridspec as gridspec\n",
    "import matplotlib.pyplot as plt\n",
    "import torch\n",
    "import torch.autograd as autograd\n",
    "import torch.optim as optim\n",
    "from torch.distributions import constraints, transform_to\n",
    "\n",
    "import pyro\n",
    "import pyro.contrib.gp as gp\n",
    "\n",
    "pyro.enable_validation(True)  # can help with debugging\n",
    "pyro.set_rng_seed(1)"
   ]
  },
  {
   "cell_type": "markdown",
   "metadata": {},
   "source": [
    "## Define an objective function\n",
    "\n",
    "For the purposes of demonstration, the objective function we are going to consider is the [Forrester et al. (2008) function](https://www.sfu.ca/~ssurjano/forretal08.html):\n",
    "\n",
    "$$f(x) = (6x-2)^2 \\sin(12x-4), \\quad x\\in [0, 1].$$\n",
    "\n",
    "This function has both a local minimum and a global minimum. The global minimum is at $x^* = 0.75725$."
   ]
  },
  {
   "cell_type": "code",
   "execution_count": 2,
   "metadata": {},
   "outputs": [],
   "source": [
    "def f(x):\n",
    "    return (6 * x - 2)**2 * torch.sin(12 * x - 4)"
   ]
  },
  {
   "cell_type": "markdown",
   "metadata": {},
   "source": [
    "Let's begin by plotting $f$."
   ]
  },
  {
   "cell_type": "code",
   "execution_count": 3,
   "metadata": {},
   "outputs": [
    {
     "data": {
      "image/png": "[encoded data removed]",
      "text/plain": [
       "<matplotlib.figure.Figure at 0x152160e898>"
      ]
     },
     "metadata": {},
     "output_type": "display_data"
    }
   ],
   "source": [
    "x = torch.linspace(0, 1)\n",
    "plt.figure(figsize=(8, 4))\n",
    "plt.plot(x.numpy(), f(x).numpy())\n",
    "plt.show()"
   ]
  },
  {
   "cell_type": "markdown",
   "metadata": {},
   "source": [
    "## Setting a Gaussian Process prior"
   ]
  },
  {
   "cell_type": "markdown",
   "metadata": {},
   "source": [
    "[Gaussian processes](https://en.wikipedia.org/wiki/Gaussian_process) are a popular choice for a function priors due to their power and flexibility. The core of a Gaussian Process is its covariance function $k$, which governs the similarity of $f(x)$ for pairs of input points. Here we will use a Gaussian Process as our prior for the objective function $f$. Given inputs $X$ and the corresponding noisy observations $y$, the model takes the form\n",
    "\n",
    "$$f\\sim\\mathrm{MultivariateNormal}(0,k(X,X)),$$\n",
    "\n",
    "$$y\\sim f+\\epsilon,$$\n",
    "\n",
    "where $\\epsilon$ is i.i.d. Gaussian noise and $k(X,X)$ is a covariance matrix whose entries are given by $k(x,x^\\prime)$ for each pair of inputs $(x,x^\\prime)$.\n",
    "\n",
    "We choose the [Matern](https://en.wikipedia.org/wiki/Mat%C3%A9rn_covariance_function) kernel with $\\nu = \\frac{5}{2}$ (as suggested in reference [1]). Note that the popular [RBF](https://en.wikipedia.org/wiki/Radial_basis_function_kernel) kernel, which is used in many regression tasks, results in a function prior whose samples are infinitely differentiable; this is probably an unrealistic assumption for most 'black-box' objective functions."
   ]
  },
  {
   "cell_type": "code",
   "execution_count": 4,
   "metadata": {},
   "outputs": [],
   "source": [
    "# initialize the model with four input points: 0.0, 0.33, 0.66, 1.0\n",
    "X = torch.tensor([0.0, 0.33, 0.66, 1.0])\n",
    "y = f(X)\n",
    "gpmodel = gp.models.GPRegression(X, y, gp.kernels.Matern52(input_dim=1),\n",
    "                                 noise=torch.tensor(0.1), jitter=1.0e-4)"
   ]
  },
  {
   "cell_type": "markdown",
   "metadata": {},
   "source": [
    "The following helper function `update_posterior` will take care of updating our `gpmodel` each time we evaluate $f$ at a new value $x$."
   ]
  },
  {
   "cell_type": "code",
   "execution_count": 5,
   "metadata": {},
   "outputs": [],
   "source": [
    "def update_posterior(x_new):\n",
    "    y = f(x_new) # evaluate f at new point.\n",
    "    X = torch.cat([gpmodel.X, x_new]) # incorporate new evaluation \n",
    "    y = torch.cat([gpmodel.y, y])     \n",
    "    gpmodel.set_data(X, y)\n",
    "    gpmodel.optimize()  # optimize the GP hyperparameters using default settings"
   ]
  },
  {
   "cell_type": "markdown",
   "metadata": {},
   "source": [
    "## Define an acquisition function"
   ]
  },
  {
   "cell_type": "markdown",
   "metadata": {},
   "source": [
    "There are many reasonable options for the acquisition function (see references [1] and [2] for a list of popular choices and a discussion of their properties). Here we will use one that is 'simple to implement and interpret,' namely the 'Lower Confidence Bound' acquisition function. \n",
    "It is given by\n",
    "\n",
    "$$\n",
    "\\alpha(x) = \\mu(x) - \\kappa \\sigma(x)\n",
    "$$\n",
    "\n",
    "where $\\mu(x)$ and $\\sigma(x)$ are the mean and square root variance of the posterior at the point $x$, and the arbitrary constant $\\kappa>0$ controls the trade-off between exploitation and exploration. This acquisition function will be minimized for choices of $x$ where either: i) $\\mu(x)$ is small (exploitation); or ii) where $\\sigma(x)$ is large (exploration).  A large value of $\\kappa$ means that we place more weight on exploration because we prefer candidates $x$ in areas of high uncertainty. A small value of $\\kappa$ encourages exploitation because we prefer candidates $x$ that minimize $\\mu(x)$, which is the mean of our surrogate objective function. We will use $\\kappa=2$."
   ]
  },
  {
   "cell_type": "code",
   "execution_count": 6,
   "metadata": {},
   "outputs": [],
   "source": [
    "def lower_confidence_bound(x, kappa=2):\n",
    "    mu, variance = gpmodel(x, full_cov=False, noiseless=False)\n",
    "    sigma = variance.sqrt()\n",
    "    return mu - kappa * sigma"
   ]
  },
  {
   "cell_type": "markdown",
   "metadata": {},
   "source": [
    "The final component we need is a way to find (approximate) minimizing points $x_{\\rm min}$ of the acquisition function. There are several ways to proceed, including gradient-based and non-gradient-based techniques. Here we will follow the gradient-based approach. One of the possible drawbacks of gradient descent methods is that the minimization algorithm can get stuck at a local minimum. In this tutorial, we adopt a (very) simple approach to address this issue:\n",
    "\n",
    "- First, we seed our minimization algorithm with 5 different values: i) one is chosen to be $x_{n-1}$, i.e. the candidate $x$ used in the previous step; and ii) four are chosen uniformly at random from the domain of the objective function. \n",
    "- We then run the minimization algorithm to approximate convergence for each seed value. \n",
    "- Finally, from the five candidate $x$s identified by the minimization algorithm, we select the one that minimizes the acquisition function.\n",
    "\n",
    "Please refer to reference [2] for a more detailed discussion of this problem in Bayesian Optimization."
   ]
  },
  {
   "cell_type": "code",
   "execution_count": 7,
   "metadata": {},
   "outputs": [],
   "source": [
    "def find_a_candidate(x_init, lower_bound=0, upper_bound=1):\n",
    "    # transform x to an unconstrained domain\n",
    "    constraint = constraints.interval(lower_bound, upper_bound)\n",
    "    unconstrained_x_init = transform_to(constraint).inv(x_init)\n",
    "    unconstrained_x = torch.tensor(unconstrained_x_init, requires_grad=True)\n",
    "    minimizer = optim.LBFGS([unconstrained_x])\n",
    "\n",
    "    def closure():\n",
    "        minimizer.zero_grad()\n",
    "        x = transform_to(constraint)(unconstrained_x)\n",
    "        y = lower_confidence_bound(x)\n",
    "        autograd.backward(unconstrained_x, autograd.grad(y, unconstrained_x))\n",
    "        return y\n",
    "    \n",
    "    minimizer.step(closure)\n",
    "    # after finding a candidate in the unconstrained domain, \n",
    "    # convert it back to original domain.\n",
    "    x = transform_to(constraint)(unconstrained_x)\n",
    "    return x.detach()"
   ]
  },
  {
   "cell_type": "markdown",
   "metadata": {},
   "source": [
    "## The inner loop of Bayesian Optimization\n",
    "\n",
    "With the various helper functions defined above, we can now encapsulate the main logic of a single step of Bayesian Optimization in the function `next_x`:"
   ]
  },
  {
   "cell_type": "code",
   "execution_count": 8,
   "metadata": {},
   "outputs": [],
   "source": [
    "def next_x(lower_bound=0, upper_bound=1, num_candidates=5):\n",
    "    candidates = []\n",
    "    values = []\n",
    "\n",
    "    x_init = gpmodel.X[-1:]\n",
    "    for i in range(num_candidates):\n",
    "        x = find_a_candidate(x_init, lower_bound, upper_bound)\n",
    "        y = lower_confidence_bound(x)\n",
    "        candidates.append(x)\n",
    "        values.append(y)\n",
    "        x_init = x.new_empty(1).uniform_(lower_bound, upper_bound)\n",
    "\n",
    "    argmin = torch.min(torch.cat(values), dim=0)[1].item()\n",
    "    return candidates[argmin]"
   ]
  },
  {
   "cell_type": "markdown",
   "metadata": {},
   "source": [
    "## Running the algorithm"
   ]
  },
  {
   "cell_type": "markdown",
   "metadata": {},
   "source": [
    "To illustrate how Bayesian Optimization works, we make a convenient plotting function that will help us visualize our algorithm's progress."
   ]
  },
  {
   "cell_type": "code",
   "execution_count": 9,
   "metadata": {},
   "outputs": [],
   "source": [
    "def plot(gs, xmin, xlabel=None, with_title=True):\n",
    "    Xnew = torch.linspace(-0.1, 1.1)\n",
    "    ax1 = plt.subplot(gs[0])\n",
    "    ax1.plot(gpmodel.X.numpy(), gpmodel.y.numpy(), \"kx\")  # plot all observed data\n",
    "    print(gs[0])\n",
    "    print(gpmodel.X.numpy())\n",
    "    print(gpmodel.y.numpy())\n",
    "    with torch.no_grad():\n",
    "        loc, var = gpmodel(Xnew, full_cov=False, noiseless=False)\n",
    "        print(loc)\n",
    "        print('var',var)\n",
    "        sd = var.sqrt()\n",
    "        ax1.plot(Xnew.numpy(), loc.numpy(), \"r\", lw=2)  # plot predictive mean\n",
    "        ax1.fill_between(Xnew.numpy(), loc.numpy() - 2*sd.numpy(), loc.numpy() + 2*sd.numpy(),\n",
    "                         color=\"C0\", alpha=0.3)  # plot uncertainty intervals\n",
    "    ax1.set_xlim(-0.1, 1.1)\n",
    "    ax1.set_title(\"Find {}\".format(xlabel))\n",
    "    if with_title:\n",
    "        ax1.set_ylabel(\"Gaussian Process Regression\")\n",
    "    data = {'x': gpmodel.X.numpy().tolist(), 'y': gpmodel.y.numpy().tolist(),\n",
    "     'loc': loc.numpy().tolist(),\n",
    "     'var': var.numpy().tolist()}\n",
    "    import json\n",
    "    with open('gp_data.json', 'w') as f:\n",
    "        json.dump(data, f)\n",
    "    np.save('gpdata.npy', data)\n",
    "    print(data.shape)\n",
    "    "
   ]
  },
  {
   "cell_type": "code",
   "execution_count": 10,
   "metadata": {},
   "outputs": [
    {
     "name": "stdout",
     "output_type": "stream",
     "text": [
      "<matplotlib.gridspec.SubplotSpec object at 0x1525e4c6d8>\n",
      "[ 0.          0.33000001  0.66000003  1.          0.52312469  0.65491498\n",
      "  0.72570795  0.79113597  0.17967419]\n",
      "[  3.02721000e+00  -1.59956871e-05  -2.69736552e+00   1.58297319e+01\n",
      "   9.86187816e-01  -2.44752192e+00  -5.54243946e+00  -5.35724354e+00\n",
      "  -8.18496227e-01]\n",
      "tensor([ 3.4431,  3.4915,  3.5183,  3.5205,  3.4952,  3.4396,  3.3513,  3.2286,\n",
      "         3.0706,  2.8777,  2.6520,  2.3971,  2.1177,  1.8194,  1.5082,  1.1906,\n",
      "         0.8733,  0.5630,  0.2663, -0.0103, -0.2609, -0.4802, -0.6636, -0.8078,\n",
      "        -0.9111, -0.9733, -0.9963, -0.9829, -0.9367, -0.8619, -0.7632, -0.6451,\n",
      "        -0.5125, -0.3699, -0.2216, -0.0715,  0.0769,  0.2209,  0.3585,  0.4880,\n",
      "         0.6083,  0.7182,  0.8171,  0.9039,  0.9778,  1.0377,  1.0826,  1.1108,\n",
      "         1.1208,  1.1104,  1.0773,  1.0186,  0.9311,  0.8109,  0.6540,  0.4562,\n",
      "         0.2133, -0.0781, -0.4206, -0.8159, -1.2631, -1.7593, -2.2978, -2.8676,\n",
      "        -3.4526, -4.0322, -4.5831, -5.0800, -5.4973, -5.8099, -5.9941, -6.0291,\n",
      "        -5.8973, -5.5854, -5.0863, -4.4003, -3.5353, -2.5051, -1.3281, -0.0258,\n",
      "         1.3780,  2.8576,  4.3867,  5.9380,  7.4842,  8.9977, 10.4520, 11.8213,\n",
      "        13.0816, 14.2113, 15.1923, 16.0117, 16.6628, 17.1459, 17.4671, 17.6362,\n",
      "        17.6654, 17.5685, 17.3600, 17.0543])\n",
      "var tensor([17.9662, 14.2334, 10.7779,  7.6899,  5.0534,  2.9391,  1.3960,  0.4416,\n",
      "         0.0537,  0.1625,  0.6507,  1.3686,  2.1573,  2.8697,  3.3874,  3.6323,\n",
      "         3.5734,  3.2277,  2.6562,  1.9536,  1.2347,  0.6163,  0.1973,  0.0389,\n",
      "         0.1480,  0.4721,  0.9151,  1.3627,  1.7081,  1.8726,  1.8196,  1.5613,\n",
      "         1.1563,  0.6985,  0.2999,  0.0670,  0.0752,  0.3465,  0.8448,  1.4888,\n",
      "         2.1724,  2.7843,  3.2277,  3.4341,  3.3734,  3.0576,  2.5386,  1.8990,\n",
      "         1.2401,  0.6637,  0.2533,  0.0560,  0.0696,  0.2391,  0.4751,  0.6851,\n",
      "         0.7991,  0.7863,  0.6590,  0.4640,  0.2628,  0.1111,  0.0370,  0.0342,\n",
      "         0.0655,  0.0892,  0.0825,  0.0554,  0.0380,  0.0509,  0.0816,  0.0976,\n",
      "         0.0785,  0.0435,  0.0526,  0.1798,  0.4791,  0.9669,  1.6147,  2.3578,\n",
      "         3.1043,  3.7534,  4.2112,  4.4041,  4.2921,  3.8768,  3.2038,  2.3616,\n",
      "         1.4743,  0.6914,  0.1694,  0.0542,  0.4573,  1.4418,  3.0240,  5.1812,\n",
      "         7.8601, 10.9874, 14.4764, 18.2362])\n"
     ]
    },
    {
     "ename": "AttributeError",
     "evalue": "'dict' object has no attribute 'shape'",
     "output_type": "error",
     "traceback": [
      "\u001b[0;31m---------------------------------------------------------------------------\u001b[0m",
      "\u001b[0;31mAttributeError\u001b[0m                            Traceback (most recent call last)",
      "\u001b[0;32m<ipython-input-10-85e0439838f8>\u001b[0m in \u001b[0;36m<module>\u001b[0;34m()\u001b[0m\n\u001b[1;32m      6\u001b[0m     \u001b[0mgs\u001b[0m \u001b[0;34m=\u001b[0m \u001b[0mgridspec\u001b[0m\u001b[0;34m.\u001b[0m\u001b[0mGridSpecFromSubplotSpec\u001b[0m\u001b[0;34m(\u001b[0m\u001b[0;36m2\u001b[0m\u001b[0;34m,\u001b[0m \u001b[0;36m1\u001b[0m\u001b[0;34m,\u001b[0m \u001b[0msubplot_spec\u001b[0m\u001b[0;34m=\u001b[0m\u001b[0mouter_gs\u001b[0m\u001b[0;34m[\u001b[0m\u001b[0mi\u001b[0m\u001b[0;34m]\u001b[0m\u001b[0;34m)\u001b[0m\u001b[0;34m\u001b[0m\u001b[0m\n\u001b[1;32m      7\u001b[0m     \u001b[0;32mif\u001b[0m \u001b[0mi\u001b[0m \u001b[0;34m==\u001b[0m \u001b[0;36m5\u001b[0m\u001b[0;34m:\u001b[0m\u001b[0;34m\u001b[0m\u001b[0m\n\u001b[0;32m----> 8\u001b[0;31m         \u001b[0mplot\u001b[0m\u001b[0;34m(\u001b[0m\u001b[0mgs\u001b[0m\u001b[0;34m,\u001b[0m \u001b[0mxmin\u001b[0m\u001b[0;34m,\u001b[0m \u001b[0mxlabel\u001b[0m\u001b[0;34m=\u001b[0m\u001b[0mi\u001b[0m\u001b[0;34m+\u001b[0m\u001b[0;36m1\u001b[0m\u001b[0;34m,\u001b[0m \u001b[0mwith_title\u001b[0m\u001b[0;34m=\u001b[0m\u001b[0;34m(\u001b[0m\u001b[0mi\u001b[0m \u001b[0;34m%\u001b[0m \u001b[0;36m2\u001b[0m \u001b[0;34m==\u001b[0m \u001b[0;36m0\u001b[0m\u001b[0;34m)\u001b[0m\u001b[0;34m)\u001b[0m\u001b[0;34m\u001b[0m\u001b[0m\n\u001b[0m\u001b[1;32m      9\u001b[0m     \u001b[0mupdate_posterior\u001b[0m\u001b[0;34m(\u001b[0m\u001b[0mxmin\u001b[0m\u001b[0;34m)\u001b[0m\u001b[0;34m\u001b[0m\u001b[0m\n\u001b[1;32m     10\u001b[0m \u001b[0mplt\u001b[0m\u001b[0;34m.\u001b[0m\u001b[0mshow\u001b[0m\u001b[0;34m(\u001b[0m\u001b[0;34m)\u001b[0m\u001b[0;34m\u001b[0m\u001b[0m\n",
      "\u001b[0;32m<ipython-input-9-ca93720b8892>\u001b[0m in \u001b[0;36mplot\u001b[0;34m(gs, xmin, xlabel, with_title)\u001b[0m\n\u001b[1;32m     25\u001b[0m         \u001b[0mjson\u001b[0m\u001b[0;34m.\u001b[0m\u001b[0mdump\u001b[0m\u001b[0;34m(\u001b[0m\u001b[0mdata\u001b[0m\u001b[0;34m,\u001b[0m \u001b[0mf\u001b[0m\u001b[0;34m)\u001b[0m\u001b[0;34m\u001b[0m\u001b[0m\n\u001b[1;32m     26\u001b[0m     \u001b[0mnp\u001b[0m\u001b[0;34m.\u001b[0m\u001b[0msave\u001b[0m\u001b[0;34m(\u001b[0m\u001b[0;34m'gpdata.npy'\u001b[0m\u001b[0;34m,\u001b[0m \u001b[0mdata\u001b[0m\u001b[0;34m)\u001b[0m\u001b[0;34m\u001b[0m\u001b[0m\n\u001b[0;32m---> 27\u001b[0;31m     \u001b[0mprint\u001b[0m\u001b[0;34m(\u001b[0m\u001b[0mdata\u001b[0m\u001b[0;34m.\u001b[0m\u001b[0mshape\u001b[0m\u001b[0;34m)\u001b[0m\u001b[0;34m\u001b[0m\u001b[0m\n\u001b[0m\u001b[1;32m     28\u001b[0m \u001b[0;34m\u001b[0m\u001b[0m\n",
      "\u001b[0;31mAttributeError\u001b[0m: 'dict' object has no attribute 'shape'"
     ]
    },
    {
     "data": {
      "image/png": "[encoded data removed]",
      "text/plain": [
       "<matplotlib.figure.Figure at 0x15250f2160>"
      ]
     },
     "metadata": {},
     "output_type": "display_data"
    }
   ],
   "source": [
    "plt.figure(figsize=(12, 30))\n",
    "outer_gs = gridspec.GridSpec(5, 2)\n",
    "gpmodel.optimize()\n",
    "for i in range(6):\n",
    "    xmin = next_x() \n",
    "    gs = gridspec.GridSpecFromSubplotSpec(2, 1, subplot_spec=outer_gs[i])\n",
    "    if i == 5:\n",
    "        plot(gs, xmin, xlabel=i+1, with_title=(i % 2 == 0))\n",
    "    update_posterior(xmin)"
   ]
  },
  {
   "cell_type": "markdown",
   "metadata": {},
   "source": [
    "Because we have assumed that our observations contain noise, it is improbable that we will find the exact minimizer of the function $f$. Still, with a relatively small budget of evaluations (12) we see that the algorithm has converged to very close to the global minimum at $x^* = 0.75725$. \n",
    "\n",
    "While this tutorial is only intended to be a brief introduction to Bayesian Optimization, we hope that we have been able to convey the basic underlying ideas. Consider watching the lecture by Nando de Freitas [3] for an excellent exposition of the basic theory. Finally, the reference paper [2] gives a review of recent research on Bayesian Optimization, together with many discussions about important technical details."
   ]
  },
  {
   "cell_type": "markdown",
   "metadata": {},
   "source": [
    "## References\n",
    "\n",
    "[1] `Practical bayesian optimization of machine learning algorithms`,<br />&nbsp;&nbsp;&nbsp;&nbsp;\n",
    "Jasper Snoek, Hugo Larochelle, and Ryan P. Adams\n",
    "\n",
    "[2] `Taking the human out of the loop: A review of bayesian optimization`,<br />&nbsp;&nbsp;&nbsp;&nbsp;\n",
    "Bobak Shahriari, Kevin Swersky, Ziyu Wang, Ryan P. Adams, and Nando De Freitas\n",
    "\n",
    "[3] [Machine learning - Bayesian optimization and multi-armed bandits](https://www.youtube.com/watch?v=vz3D36VXefI)"
   ]
  }
 ],
 "metadata": {
  "kernelspec": {
   "display_name": "Python 3",
   "language": "python",
   "name": "python3"
  },
  "language_info": {
   "codemirror_mode": {
    "name": "ipython",
    "version": 3
   },
   "file_extension": ".py",
   "mimetype": "text/x-python",
   "name": "python",
   "nbconvert_exporter": "python",
   "pygments_lexer": "ipython3",
   "version": "3.6.2"
  }
 },
 "nbformat": 4,
 "nbformat_minor": 2
}
